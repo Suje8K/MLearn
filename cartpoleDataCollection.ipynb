{
 "cells": [
  {
   "cell_type": "code",
   "execution_count": 173,
   "metadata": {},
   "outputs": [],
   "source": [
    "import gym\n",
    "import gym.spaces\n",
    "import time\n",
    "import random\n",
    "import numpy as np\n",
    "from collections import Counter\n",
    "import time"
   ]
  },
  {
   "cell_type": "code",
   "execution_count": 162,
   "metadata": {},
   "outputs": [],
   "source": [
    "goal_steps = 500\n",
    "initial_games = 100000\n",
    "acceptable_score = 70"
   ]
  },
  {
   "cell_type": "code",
   "execution_count": 163,
   "metadata": {},
   "outputs": [],
   "source": [
    "def check():\n",
    "    accepted_scores = []\n",
    "    all_score = []\n",
    "    training_data = []\n",
    "    env = gym.make('CartPole-v0')\n",
    "    for _ in range(initial_games):\n",
    "        score = 0\n",
    "        prev_observ=[]\n",
    "        game_mem = []\n",
    "        env.reset()\n",
    "        for _ in range(goal_steps):\n",
    "            action = random.randrange(2)\n",
    "            observation, reward, done, info = env.step(action)\n",
    "            score += reward\n",
    "            if len(prev_observ) > 0:\n",
    "                game_mem.append([prev_observ, action])\n",
    "            prev_observ = observation\n",
    "            \n",
    "            if done:\n",
    "                break\n",
    "        if(score > acceptable_score):\n",
    "            accepted_scores.append(score)\n",
    "            for data in game_mem:\n",
    "                if data[1] == 0:\n",
    "                    output = [0]\n",
    "                elif data[1] == 1:\n",
    "                    output = [1]\n",
    "                training_data.append([data[0], output])\n",
    "                break\n",
    "        all_score.append(score)\n",
    "    print(Counter(accepted_scores))\n",
    "    print('Mean : ' + str(np.mean(np.array(accepted_scores))))\n",
    "    print('Median : ' + str(np.median(np.array(accepted_scores))))\n",
    "    np.save('cartpoleTraining200.npy', np.array(training_data))\n",
    "    print(training_data[0])"
   ]
  },
  {
   "cell_type": "code",
   "execution_count": 164,
   "metadata": {},
   "outputs": [
    {
     "name": "stdout",
     "output_type": "stream",
     "text": [
      "\u001b[33mWARN: gym.spaces.Box autodetected dtype as <class 'numpy.float32'>. Please provide explicit dtype.\u001b[0m\n",
      "Counter({71.0: 63, 73.0: 42, 75.0: 39, 74.0: 37, 78.0: 36, 76.0: 34, 72.0: 33, 77.0: 30, 81.0: 25, 79.0: 24, 82.0: 24, 83.0: 22, 85.0: 21, 84.0: 18, 86.0: 17, 80.0: 13, 88.0: 12, 98.0: 11, 87.0: 10, 89.0: 10, 91.0: 10, 90.0: 9, 103.0: 9, 96.0: 8, 95.0: 8, 108.0: 7, 93.0: 6, 92.0: 6, 94.0: 5, 100.0: 4, 97.0: 4, 110.0: 4, 105.0: 3, 99.0: 3, 104.0: 3, 102.0: 2, 120.0: 1, 106.0: 1, 107.0: 1, 123.0: 1, 121.0: 1, 112.0: 1, 118.0: 1, 111.0: 1, 117.0: 1, 109.0: 1, 125.0: 1, 124.0: 1, 101.0: 1, 119.0: 1, 127.0: 1})\n",
      "Mean : 81.8102073365\n",
      "Median : 78.0\n",
      "[array([ 0.01052619,  0.17395038, -0.00987941, -0.33798754]), [0]]\n"
     ]
    }
   ],
   "source": [
    "check()"
   ]
  },
  {
   "cell_type": "code",
   "execution_count": 180,
   "metadata": {},
   "outputs": [],
   "source": [
    "def demo():\n",
    "    env = gym.make('CartPole-v0')\n",
    "    for _ in range(10):\n",
    "        env.reset()\n",
    "        for _ in range(100):\n",
    "            env.render()\n",
    "            action = random.randrange(2)\n",
    "            observation, reward, done, info = env.step(action)\n",
    "            time.sleep(0.01)\n",
    "    env.close()"
   ]
  },
  {
   "cell_type": "code",
   "execution_count": 182,
   "metadata": {},
   "outputs": [
    {
     "name": "stdout",
     "output_type": "stream",
     "text": [
      "\u001b[33mWARN: gym.spaces.Box autodetected dtype as <class 'numpy.float32'>. Please provide explicit dtype.\u001b[0m\n",
      "\u001b[33mWARN: You are calling 'step()' even though this environment has already returned done = True. You should always call 'reset()' once you receive 'done = True' -- any further steps are undefined behavior.\u001b[0m\n",
      "\u001b[33mWARN: You are calling 'step()' even though this environment has already returned done = True. You should always call 'reset()' once you receive 'done = True' -- any further steps are undefined behavior.\u001b[0m\n",
      "\u001b[33mWARN: You are calling 'step()' even though this environment has already returned done = True. You should always call 'reset()' once you receive 'done = True' -- any further steps are undefined behavior.\u001b[0m\n",
      "\u001b[33mWARN: You are calling 'step()' even though this environment has already returned done = True. You should always call 'reset()' once you receive 'done = True' -- any further steps are undefined behavior.\u001b[0m\n",
      "\u001b[33mWARN: You are calling 'step()' even though this environment has already returned done = True. You should always call 'reset()' once you receive 'done = True' -- any further steps are undefined behavior.\u001b[0m\n",
      "\u001b[33mWARN: You are calling 'step()' even though this environment has already returned done = True. You should always call 'reset()' once you receive 'done = True' -- any further steps are undefined behavior.\u001b[0m\n",
      "\u001b[33mWARN: You are calling 'step()' even though this environment has already returned done = True. You should always call 'reset()' once you receive 'done = True' -- any further steps are undefined behavior.\u001b[0m\n",
      "\u001b[33mWARN: You are calling 'step()' even though this environment has already returned done = True. You should always call 'reset()' once you receive 'done = True' -- any further steps are undefined behavior.\u001b[0m\n",
      "\u001b[33mWARN: You are calling 'step()' even though this environment has already returned done = True. You should always call 'reset()' once you receive 'done = True' -- any further steps are undefined behavior.\u001b[0m\n",
      "\u001b[33mWARN: You are calling 'step()' even though this environment has already returned done = True. You should always call 'reset()' once you receive 'done = True' -- any further steps are undefined behavior.\u001b[0m\n"
     ]
    }
   ],
   "source": [
    "demo()"
   ]
  },
  {
   "cell_type": "code",
   "execution_count": null,
   "metadata": {},
   "outputs": [],
   "source": []
  }
 ],
 "metadata": {
  "kernelspec": {
   "display_name": "Python 3",
   "language": "python",
   "name": "python3"
  },
  "language_info": {
   "codemirror_mode": {
    "name": "ipython",
    "version": 3
   },
   "file_extension": ".py",
   "mimetype": "text/x-python",
   "name": "python",
   "nbconvert_exporter": "python",
   "pygments_lexer": "ipython3",
   "version": "3.6.2"
  }
 },
 "nbformat": 4,
 "nbformat_minor": 2
}
